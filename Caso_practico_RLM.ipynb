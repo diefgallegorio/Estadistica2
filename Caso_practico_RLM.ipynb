{
  "nbformat": 4,
  "nbformat_minor": 0,
  "metadata": {
    "colab": {
      "name": "Caso practico RLM.ipynb",
      "provenance": [],
      "collapsed_sections": [],
      "include_colab_link": true
    },
    "kernelspec": {
      "name": "python3",
      "display_name": "Python 3"
    }
  },
  "cells": [
    {
      "cell_type": "markdown",
      "metadata": {
        "id": "view-in-github",
        "colab_type": "text"
      },
      "source": [
        "<a href=\"https://colab.research.google.com/github/diefgallegorio/Estadistica2/blob/main/Caso_practico_RLM.ipynb\" target=\"_parent\"><img src=\"https://colab.research.google.com/assets/colab-badge.svg\" alt=\"Open In Colab\"/></a>"
      ]
    },
    {
      "cell_type": "markdown",
      "metadata": {
        "id": "qvddKWLDxExj"
      },
      "source": [
        "# **Caso práctico de regresión lineal múltiple:**\n",
        "\n",
        "\n",
        "---\n",
        "\n",
        "\n",
        "Tome como base el siguiente código para realizar una regresión lineal múltiple tomando como entrada los puntajes correspondientes a los módulos específicos de las Pruebas Saber Pro 2019 y como variable de salida el puntaje global del estudiante. \n",
        "\n",
        "Tenga en cuenta que puede crear una copia a partir de este repositorio, ya sea en un entorno de ejecución como Google Colaboratory o uno diferente. Por caso de practicidad se recomienda Google Colaboratory para evitar problemas de acceso al conjunto de datos de las Pruebas Saber Pro 2019."
      ]
    },
    {
      "cell_type": "code",
      "metadata": {
        "id": "PaRVo_hI7NI8"
      },
      "source": [
        "import pandas as pd\n",
        "import numpy as np\n",
        "import seaborn as sb\n",
        "import matplotlib.pyplot as plt\n",
        "from sklearn import linear_model\n",
        "from sklearn.metrics import mean_squared_error, r2_score\n",
        "import warnings\n",
        "warnings.filterwarnings(\"ignore\")\n",
        "\n",
        "#Librerías para acceder a archivos desde google drive en google colaboratory \n",
        "from pydrive.auth import GoogleAuth\n",
        "from pydrive.drive import GoogleDrive\n",
        "from google.colab import auth\n",
        "from oauth2client.client import GoogleCredentials\n",
        "\n",
        "auth.authenticate_user()\n",
        "gauth = GoogleAuth()\n",
        "gauth.credentials = GoogleCredentials.get_application_default()\n",
        "drive = GoogleDrive(gauth)\n",
        "\n",
        "#Importo base de datos de los resutados de las pruebas saber pro 2019\n",
        "icfes = '12KFWoUTAoHUPxmL2nYDlvPXcf2KBWwCA'\n",
        "downloaded = drive.CreateFile({'id': icfes})\n",
        "downloaded.GetContentFile('Icfes_pro_genericas.csv') \n",
        "\n",
        "#Leo la base de datos y pruebo que cargue adecuadamente en Pandas\n",
        "Xdata = pd.read_csv('Icfes_pro_genericas.csv')\n",
        "\n",
        "#Exploramos con qué datos contamos, para saber cuáles se pueden incluir en la regresión (Datos cuantitativos o que se puedan convertir en ello)\n",
        "Xdata.reset_index(inplace=True,drop=True)\n",
        "Xdata.head()"
      ],
      "execution_count": null,
      "outputs": []
    },
    {
      "cell_type": "code",
      "metadata": {
        "id": "pXiKagLLx1sd"
      },
      "source": [
        ""
      ],
      "execution_count": null,
      "outputs": []
    }
  ]
}