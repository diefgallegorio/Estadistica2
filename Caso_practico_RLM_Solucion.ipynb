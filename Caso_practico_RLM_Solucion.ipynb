{
  "nbformat": 4,
  "nbformat_minor": 0,
  "metadata": {
    "colab": {
      "name": "Caso practico RLM - Solucion.ipynb",
      "provenance": [],
      "collapsed_sections": [],
      "include_colab_link": true
    },
    "kernelspec": {
      "name": "python3",
      "display_name": "Python 3"
    }
  },
  "cells": [
    {
      "cell_type": "markdown",
      "metadata": {
        "id": "view-in-github",
        "colab_type": "text"
      },
      "source": [
        "<a href=\"https://colab.research.google.com/github/diefgallegorio/Estadistica2/blob/main/Caso_practico_RLM_Solucion.ipynb\" target=\"_parent\"><img src=\"https://colab.research.google.com/assets/colab-badge.svg\" alt=\"Open In Colab\"/></a>"
      ]
    },
    {
      "cell_type": "code",
      "metadata": {
        "id": "PaRVo_hI7NI8"
      },
      "source": [
        "import pandas as pd\n",
        "import numpy as np\n",
        "import seaborn as sb\n",
        "import matplotlib.pyplot as plt\n",
        "from sklearn import linear_model\n",
        "from sklearn.metrics import mean_squared_error, r2_score\n",
        "import warnings\n",
        "warnings.filterwarnings(\"ignore\")\n",
        "\n",
        "#Librerías para acceder a archivos desde google drive en google colaboratory \n",
        "from pydrive.auth import GoogleAuth\n",
        "from pydrive.drive import GoogleDrive\n",
        "from google.colab import auth\n",
        "from oauth2client.client import GoogleCredentials\n",
        "\n",
        "auth.authenticate_user()\n",
        "gauth = GoogleAuth()\n",
        "gauth.credentials = GoogleCredentials.get_application_default()\n",
        "drive = GoogleDrive(gauth)\n",
        "\n",
        "#Importo base de datos de los resutados de las pruebas saber pro 2019\n",
        "icfes = '12KFWoUTAoHUPxmL2nYDlvPXcf2KBWwCA'\n",
        "downloaded = drive.CreateFile({'id': icfes})\n",
        "downloaded.GetContentFile('Icfes_pro_genericas.csv') \n",
        "\n",
        "#Leo la base de datos y pruebo que cargue adecuadamente en Pandas\n",
        "Xdata = pd.read_csv('Icfes_pro_genericas.csv').loc[:,['MOD_RAZONA_CUANTITAT_PUNT','MOD_INGLES_PUNT','MOD_COMUNI_ESCRITA_PUNT','PUNT_GLOBAL']]\n",
        "\n",
        "#Exploramos con qué datos contamos, para saber cuáles se pueden incluir en la regresión (Datos cuantitativos o que se puedan convertir en ello)\n",
        "Xdata.reset_index(inplace=True,drop=True)\n",
        "Xdata.head()"
      ],
      "execution_count": null,
      "outputs": []
    },
    {
      "cell_type": "code",
      "metadata": {
        "colab": {
          "base_uri": "https://localhost:8080/",
          "height": 423
        },
        "id": "P-5Cmr0FEG3h",
        "outputId": "c0f7a523-61a4-41b3-dfa5-fdd0d2056a40"
      },
      "source": [
        "#  Matriz de correlación\n",
        "import seaborn as sns\n",
        "correlation_mat = Xdata.corr()\n",
        "sns.heatmap(correlation_mat, annot = True)\n",
        "plt.show()"
      ],
      "execution_count": null,
      "outputs": [
        {
          "output_type": "display_data",
          "data": {
            "image/png": "[encoded data removed]",
            "text/plain": [
              "<Figure size 432x288 with 2 Axes>"
            ]
          },
          "metadata": {
            "tags": [],
            "needs_background": "light"
          }
        }
      ]
    },
    {
      "cell_type": "code",
      "metadata": {
        "id": "gHZpDWZl8n9p"
      },
      "source": [
        "# variables de entrada en XY_train y la variable de salida pasa de ser “Y” a ser el eje “Z”.\n",
        "\n",
        "Xdata2 =  Xdata.iloc[:,:-1]\n",
        "#Imputando los valores NaN con la media \n",
        "\n",
        "for i in Xdata2.columns:\n",
        "  Xdata2[i].fillna((Xdata2[i].mean()), inplace=True)\n",
        "\n",
        "XY_train = np.array(Xdata2)\n",
        "z_train = Xdata['PUNT_GLOBAL'].values"
      ],
      "execution_count": null,
      "outputs": []
    },
    {
      "cell_type": "markdown",
      "metadata": {
        "id": "k3RG5Zf-gto1"
      },
      "source": [
        "Creamos un nuevo objeto de Regresión lineal con SKLearn pero esta vez tendrá las cuatro dimensiones que entrenar: las que contiene XY_train. Al igual que antes, imprimimos los coeficientes y puntajes obtenidos:"
      ]
    },
    {
      "cell_type": "code",
      "metadata": {
        "colab": {
          "base_uri": "https://localhost:8080/"
        },
        "id": "jv1eN7N68oBe",
        "outputId": "88a09a4b-ff23-4d65-9e62-727074ce824d"
      },
      "source": [
        "regr2 = linear_model.LinearRegression()\n",
        " \n",
        "# Entrenamos el modelo, esta vez, con 2 dimensione\n",
        "regr2.fit(XY_train, z_train)\n",
        " \n",
        "# Hacemos la predicción \n",
        "z_pred = regr2.predict(XY_train)\n",
        " \n",
        "# Los coeficientes\n",
        "print('Coefficients: \\n', regr2.coef_)\n",
        "# Error cuadrático medio\n",
        "print(\"Mean squared error: %.2f\" % mean_squared_error(z_train, z_pred))\n",
        "# Este es el valor donde corta el eje Y (en X=0)\n",
        "print('Independent term: \\n', regr2.intercept_)\n",
        "# Evaluamos el puntaje de varianza (siendo 1.0 el mejor posible)\n",
        "print('Variance score: %.2f' % r2_score(z_train, z_pred))"
      ],
      "execution_count": null,
      "outputs": [
        {
          "output_type": "stream",
          "text": [
            "Coefficients: \n",
            " [0.32430229 0.33835973 0.23181796]\n",
            "Mean squared error: 81.23\n",
            "Independent term: \n",
            " 14.449119856164714\n",
            "Variance score: 0.85\n"
          ],
          "name": "stdout"
        }
      ]
    },
    {
      "cell_type": "code",
      "metadata": {
        "colab": {
          "base_uri": "https://localhost:8080/"
        },
        "id": "eQMgth8k9A6v",
        "outputId": "b9ad55f4-f68f-407c-ccd0-3e2b5fe741a5"
      },
      "source": [
        "# Para poner en práctica el ejercicio, queremos probarlo prediciendo el PUNTAJE GLOBAL de un estudiante con las siguientes características:\n",
        "# Estudiante que tiene que paga una matrícula de Entre 500 mil y menos de 1 millón; cursa 10° semestre de su carrera profesional, \n",
        "# la vivienda es estrato 4 y trabaja Entre 11 y 20 horas.\n",
        "\n",
        "z_ = regr2.predict([[120, 140, 100]])\n",
        "print(int(z_))"
      ],
      "execution_count": null,
      "outputs": [
        {
          "output_type": "stream",
          "text": [
            "123\n"
          ],
          "name": "stdout"
        }
      ]
    }
  ]
}